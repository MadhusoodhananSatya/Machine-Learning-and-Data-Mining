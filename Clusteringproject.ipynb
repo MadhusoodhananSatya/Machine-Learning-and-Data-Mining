{
 "cells": [
  {
   "cell_type": "markdown",
   "id": "34851d98-8df7-4688-ad08-6f10912f4456",
   "metadata": {},
   "source": [
    "# Task 2 Applying Clustering algorithm and compare which one is best"
   ]
  },
  {
   "cell_type": "markdown",
   "id": "5c45e3c0-0506-47d9-b8fb-981676e34da5",
   "metadata": {},
   "source": [
    "### Importing and loading pacakages"
   ]
  },
  {
   "cell_type": "code",
   "execution_count": 1,
   "id": "7a9a9385-9a54-46a1-b1e0-9d087cc76de2",
   "metadata": {},
   "outputs": [],
   "source": [
    "import pandas as pd\n",
    "import matplotlib.pyplot as plt\n",
    "import numpy as np\n",
    "import seaborn as sns\n"
   ]
  },
  {
   "cell_type": "markdown",
   "id": "0d57c667-ca11-4131-8f10-10aad8db1f09",
   "metadata": {},
   "source": [
    "## EDA process"
   ]
  },
  {
   "cell_type": "markdown",
   "id": "7a377e66-0e67-4747-9d14-d7df0c631352",
   "metadata": {},
   "source": [
    "### Data Collection"
   ]
  },
  {
   "cell_type": "code",
   "execution_count": 2,
   "id": "93e0380e-10e2-4009-b80b-72e068ee1c0b",
   "metadata": {
    "scrolled": true
   },
   "outputs": [],
   "source": [
    "df=pd.read_csv(\"Steam.csv\")"
   ]
  },
  {
   "cell_type": "code",
   "execution_count": 3,
   "id": "ad0eb5b9-3e9f-4741-b297-09e31e3bdcfe",
   "metadata": {},
   "outputs": [
    {
     "data": {
      "text/html": [
       "<div>\n",
       "<style scoped>\n",
       "    .dataframe tbody tr th:only-of-type {\n",
       "        vertical-align: middle;\n",
       "    }\n",
       "\n",
       "    .dataframe tbody tr th {\n",
       "        vertical-align: top;\n",
       "    }\n",
       "\n",
       "    .dataframe thead th {\n",
       "        text-align: right;\n",
       "    }\n",
       "</style>\n",
       "<table border=\"1\" class=\"dataframe\">\n",
       "  <thead>\n",
       "    <tr style=\"text-align: right;\">\n",
       "      <th></th>\n",
       "      <th>name</th>\n",
       "      <th>releaseDate</th>\n",
       "      <th>copiesSold</th>\n",
       "      <th>price</th>\n",
       "      <th>revenue</th>\n",
       "      <th>avgPlaytime</th>\n",
       "      <th>reviewScore</th>\n",
       "      <th>publisherClass</th>\n",
       "      <th>publishers</th>\n",
       "      <th>developers</th>\n",
       "      <th>steamId</th>\n",
       "    </tr>\n",
       "  </thead>\n",
       "  <tbody>\n",
       "    <tr>\n",
       "      <th>0</th>\n",
       "      <td>WWE 2K24</td>\n",
       "      <td>07-03-2024</td>\n",
       "      <td>165301</td>\n",
       "      <td>99.99</td>\n",
       "      <td>8055097.0</td>\n",
       "      <td>42.365140</td>\n",
       "      <td>71</td>\n",
       "      <td>AAA</td>\n",
       "      <td>2K</td>\n",
       "      <td>Visual Concepts</td>\n",
       "      <td>2315690</td>\n",
       "    </tr>\n",
       "    <tr>\n",
       "      <th>1</th>\n",
       "      <td>EARTH DEFENSE FORCE 6</td>\n",
       "      <td>25-07-2024</td>\n",
       "      <td>159806</td>\n",
       "      <td>59.99</td>\n",
       "      <td>7882151.0</td>\n",
       "      <td>29.651061</td>\n",
       "      <td>57</td>\n",
       "      <td>Indie</td>\n",
       "      <td>D3PUBLISHER</td>\n",
       "      <td>SANDLOT</td>\n",
       "      <td>2291060</td>\n",
       "    </tr>\n",
       "    <tr>\n",
       "      <th>2</th>\n",
       "      <td>Sins of a Solar Empire II</td>\n",
       "      <td>15-08-2024</td>\n",
       "      <td>214192</td>\n",
       "      <td>49.99</td>\n",
       "      <td>7815247.0</td>\n",
       "      <td>12.452593</td>\n",
       "      <td>88</td>\n",
       "      <td>Indie</td>\n",
       "      <td>Stardock Entertainment</td>\n",
       "      <td>Ironclad Games Corporation,Stardock Entertainment</td>\n",
       "      <td>1575940</td>\n",
       "    </tr>\n",
       "    <tr>\n",
       "      <th>3</th>\n",
       "      <td>Legend of Mortal</td>\n",
       "      <td>14-06-2024</td>\n",
       "      <td>440998</td>\n",
       "      <td>19.99</td>\n",
       "      <td>7756399.0</td>\n",
       "      <td>24.797817</td>\n",
       "      <td>76</td>\n",
       "      <td>Indie</td>\n",
       "      <td>Paras Games,Obb Studio Inc.</td>\n",
       "      <td>Obb Studio Inc.</td>\n",
       "      <td>1859910</td>\n",
       "    </tr>\n",
       "    <tr>\n",
       "      <th>4</th>\n",
       "      <td>Shin Megami Tensei V: Vengeance</td>\n",
       "      <td>13-06-2024</td>\n",
       "      <td>141306</td>\n",
       "      <td>59.99</td>\n",
       "      <td>7629252.0</td>\n",
       "      <td>34.258496</td>\n",
       "      <td>96</td>\n",
       "      <td>AA</td>\n",
       "      <td>SEGA</td>\n",
       "      <td>ATLUS</td>\n",
       "      <td>1875830</td>\n",
       "    </tr>\n",
       "    <tr>\n",
       "      <th>...</th>\n",
       "      <td>...</td>\n",
       "      <td>...</td>\n",
       "      <td>...</td>\n",
       "      <td>...</td>\n",
       "      <td>...</td>\n",
       "      <td>...</td>\n",
       "      <td>...</td>\n",
       "      <td>...</td>\n",
       "      <td>...</td>\n",
       "      <td>...</td>\n",
       "      <td>...</td>\n",
       "    </tr>\n",
       "    <tr>\n",
       "      <th>1495</th>\n",
       "      <td>Infection Free Zone</td>\n",
       "      <td>11-04-2024</td>\n",
       "      <td>452146</td>\n",
       "      <td>24.99</td>\n",
       "      <td>8739530.0</td>\n",
       "      <td>14.494432</td>\n",
       "      <td>73</td>\n",
       "      <td>Indie</td>\n",
       "      <td>Games Operators</td>\n",
       "      <td>Jutsu Games</td>\n",
       "      <td>1465460</td>\n",
       "    </tr>\n",
       "    <tr>\n",
       "      <th>1496</th>\n",
       "      <td>Dark and Darker</td>\n",
       "      <td>07-06-2024</td>\n",
       "      <td>2640903</td>\n",
       "      <td>0.00</td>\n",
       "      <td>8706135.0</td>\n",
       "      <td>31.974027</td>\n",
       "      <td>74</td>\n",
       "      <td>Indie</td>\n",
       "      <td>IRONMACE</td>\n",
       "      <td>IRONMACE</td>\n",
       "      <td>2016590</td>\n",
       "    </tr>\n",
       "    <tr>\n",
       "      <th>1497</th>\n",
       "      <td>Songs of Conquest</td>\n",
       "      <td>20-05-2024</td>\n",
       "      <td>501474</td>\n",
       "      <td>34.99</td>\n",
       "      <td>8641459.0</td>\n",
       "      <td>11.891152</td>\n",
       "      <td>88</td>\n",
       "      <td>AA</td>\n",
       "      <td>Coffee Stain Publishing</td>\n",
       "      <td>Lavapotion</td>\n",
       "      <td>867210</td>\n",
       "    </tr>\n",
       "    <tr>\n",
       "      <th>1498</th>\n",
       "      <td>GUNDAM BREAKER 4</td>\n",
       "      <td>28-08-2024</td>\n",
       "      <td>156339</td>\n",
       "      <td>59.99</td>\n",
       "      <td>8440898.0</td>\n",
       "      <td>14.733899</td>\n",
       "      <td>81</td>\n",
       "      <td>AA</td>\n",
       "      <td>Bandai Namco Entertainment Inc.</td>\n",
       "      <td>CRAFTS ＆ MEISTER Co., Ltd</td>\n",
       "      <td>1672500</td>\n",
       "    </tr>\n",
       "    <tr>\n",
       "      <th>1499</th>\n",
       "      <td>Peglin</td>\n",
       "      <td>27-08-2024</td>\n",
       "      <td>544144</td>\n",
       "      <td>19.99</td>\n",
       "      <td>8125042.0</td>\n",
       "      <td>30.160995</td>\n",
       "      <td>82</td>\n",
       "      <td>Indie</td>\n",
       "      <td>Red Nexus Games Inc.,IndieArk</td>\n",
       "      <td>Red Nexus Games Inc.</td>\n",
       "      <td>1296610</td>\n",
       "    </tr>\n",
       "  </tbody>\n",
       "</table>\n",
       "<p>1500 rows × 11 columns</p>\n",
       "</div>"
      ],
      "text/plain": [
       "                                 name releaseDate  copiesSold  price  \\\n",
       "0                            WWE 2K24  07-03-2024      165301  99.99   \n",
       "1               EARTH DEFENSE FORCE 6  25-07-2024      159806  59.99   \n",
       "2           Sins of a Solar Empire II  15-08-2024      214192  49.99   \n",
       "3                    Legend of Mortal  14-06-2024      440998  19.99   \n",
       "4     Shin Megami Tensei V: Vengeance  13-06-2024      141306  59.99   \n",
       "...                               ...         ...         ...    ...   \n",
       "1495              Infection Free Zone  11-04-2024      452146  24.99   \n",
       "1496                  Dark and Darker  07-06-2024     2640903   0.00   \n",
       "1497                Songs of Conquest  20-05-2024      501474  34.99   \n",
       "1498                 GUNDAM BREAKER 4  28-08-2024      156339  59.99   \n",
       "1499                           Peglin  27-08-2024      544144  19.99   \n",
       "\n",
       "        revenue  avgPlaytime  reviewScore publisherClass  \\\n",
       "0     8055097.0    42.365140           71            AAA   \n",
       "1     7882151.0    29.651061           57          Indie   \n",
       "2     7815247.0    12.452593           88          Indie   \n",
       "3     7756399.0    24.797817           76          Indie   \n",
       "4     7629252.0    34.258496           96             AA   \n",
       "...         ...          ...          ...            ...   \n",
       "1495  8739530.0    14.494432           73          Indie   \n",
       "1496  8706135.0    31.974027           74          Indie   \n",
       "1497  8641459.0    11.891152           88             AA   \n",
       "1498  8440898.0    14.733899           81             AA   \n",
       "1499  8125042.0    30.160995           82          Indie   \n",
       "\n",
       "                           publishers  \\\n",
       "0                                  2K   \n",
       "1                         D3PUBLISHER   \n",
       "2              Stardock Entertainment   \n",
       "3         Paras Games,Obb Studio Inc.   \n",
       "4                                SEGA   \n",
       "...                               ...   \n",
       "1495                  Games Operators   \n",
       "1496                         IRONMACE   \n",
       "1497          Coffee Stain Publishing   \n",
       "1498  Bandai Namco Entertainment Inc.   \n",
       "1499    Red Nexus Games Inc.,IndieArk   \n",
       "\n",
       "                                             developers  steamId  \n",
       "0                                       Visual Concepts  2315690  \n",
       "1                                               SANDLOT  2291060  \n",
       "2     Ironclad Games Corporation,Stardock Entertainment  1575940  \n",
       "3                                       Obb Studio Inc.  1859910  \n",
       "4                                                 ATLUS  1875830  \n",
       "...                                                 ...      ...  \n",
       "1495                                        Jutsu Games  1465460  \n",
       "1496                                           IRONMACE  2016590  \n",
       "1497                                         Lavapotion   867210  \n",
       "1498                          CRAFTS ＆ MEISTER Co., Ltd  1672500  \n",
       "1499                               Red Nexus Games Inc.  1296610  \n",
       "\n",
       "[1500 rows x 11 columns]"
      ]
     },
     "execution_count": 3,
     "metadata": {},
     "output_type": "execute_result"
    }
   ],
   "source": [
    "df"
   ]
  },
  {
   "cell_type": "markdown",
   "id": "e095f956-9e07-409b-a6f0-c31ba14ef578",
   "metadata": {},
   "source": [
    "### Data Understanding"
   ]
  },
  {
   "cell_type": "code",
   "execution_count": 4,
   "id": "2366943a-e000-41ee-8f34-caa32162cf6b",
   "metadata": {},
   "outputs": [
    {
     "data": {
      "text/html": [
       "<div>\n",
       "<style scoped>\n",
       "    .dataframe tbody tr th:only-of-type {\n",
       "        vertical-align: middle;\n",
       "    }\n",
       "\n",
       "    .dataframe tbody tr th {\n",
       "        vertical-align: top;\n",
       "    }\n",
       "\n",
       "    .dataframe thead th {\n",
       "        text-align: right;\n",
       "    }\n",
       "</style>\n",
       "<table border=\"1\" class=\"dataframe\">\n",
       "  <thead>\n",
       "    <tr style=\"text-align: right;\">\n",
       "      <th></th>\n",
       "      <th>name</th>\n",
       "      <th>releaseDate</th>\n",
       "      <th>copiesSold</th>\n",
       "      <th>price</th>\n",
       "      <th>revenue</th>\n",
       "      <th>avgPlaytime</th>\n",
       "      <th>reviewScore</th>\n",
       "      <th>publisherClass</th>\n",
       "      <th>publishers</th>\n",
       "      <th>developers</th>\n",
       "      <th>steamId</th>\n",
       "    </tr>\n",
       "  </thead>\n",
       "  <tbody>\n",
       "    <tr>\n",
       "      <th>0</th>\n",
       "      <td>WWE 2K24</td>\n",
       "      <td>07-03-2024</td>\n",
       "      <td>165301</td>\n",
       "      <td>99.99</td>\n",
       "      <td>8055097.0</td>\n",
       "      <td>42.365140</td>\n",
       "      <td>71</td>\n",
       "      <td>AAA</td>\n",
       "      <td>2K</td>\n",
       "      <td>Visual Concepts</td>\n",
       "      <td>2315690</td>\n",
       "    </tr>\n",
       "    <tr>\n",
       "      <th>1</th>\n",
       "      <td>EARTH DEFENSE FORCE 6</td>\n",
       "      <td>25-07-2024</td>\n",
       "      <td>159806</td>\n",
       "      <td>59.99</td>\n",
       "      <td>7882151.0</td>\n",
       "      <td>29.651061</td>\n",
       "      <td>57</td>\n",
       "      <td>Indie</td>\n",
       "      <td>D3PUBLISHER</td>\n",
       "      <td>SANDLOT</td>\n",
       "      <td>2291060</td>\n",
       "    </tr>\n",
       "    <tr>\n",
       "      <th>2</th>\n",
       "      <td>Sins of a Solar Empire II</td>\n",
       "      <td>15-08-2024</td>\n",
       "      <td>214192</td>\n",
       "      <td>49.99</td>\n",
       "      <td>7815247.0</td>\n",
       "      <td>12.452593</td>\n",
       "      <td>88</td>\n",
       "      <td>Indie</td>\n",
       "      <td>Stardock Entertainment</td>\n",
       "      <td>Ironclad Games Corporation,Stardock Entertainment</td>\n",
       "      <td>1575940</td>\n",
       "    </tr>\n",
       "    <tr>\n",
       "      <th>3</th>\n",
       "      <td>Legend of Mortal</td>\n",
       "      <td>14-06-2024</td>\n",
       "      <td>440998</td>\n",
       "      <td>19.99</td>\n",
       "      <td>7756399.0</td>\n",
       "      <td>24.797817</td>\n",
       "      <td>76</td>\n",
       "      <td>Indie</td>\n",
       "      <td>Paras Games,Obb Studio Inc.</td>\n",
       "      <td>Obb Studio Inc.</td>\n",
       "      <td>1859910</td>\n",
       "    </tr>\n",
       "    <tr>\n",
       "      <th>4</th>\n",
       "      <td>Shin Megami Tensei V: Vengeance</td>\n",
       "      <td>13-06-2024</td>\n",
       "      <td>141306</td>\n",
       "      <td>59.99</td>\n",
       "      <td>7629252.0</td>\n",
       "      <td>34.258496</td>\n",
       "      <td>96</td>\n",
       "      <td>AA</td>\n",
       "      <td>SEGA</td>\n",
       "      <td>ATLUS</td>\n",
       "      <td>1875830</td>\n",
       "    </tr>\n",
       "    <tr>\n",
       "      <th>5</th>\n",
       "      <td>Soulmask</td>\n",
       "      <td>30-05-2024</td>\n",
       "      <td>304685</td>\n",
       "      <td>29.99</td>\n",
       "      <td>7540563.0</td>\n",
       "      <td>95.697813</td>\n",
       "      <td>79</td>\n",
       "      <td>Indie</td>\n",
       "      <td>Qooland Games</td>\n",
       "      <td>CampFire Studio</td>\n",
       "      <td>2646460</td>\n",
       "    </tr>\n",
       "    <tr>\n",
       "      <th>6</th>\n",
       "      <td>The Universim</td>\n",
       "      <td>22-01-2024</td>\n",
       "      <td>328945</td>\n",
       "      <td>29.99</td>\n",
       "      <td>7534369.0</td>\n",
       "      <td>16.868531</td>\n",
       "      <td>81</td>\n",
       "      <td>Indie</td>\n",
       "      <td>Crytivo</td>\n",
       "      <td>Crytivo</td>\n",
       "      <td>352720</td>\n",
       "    </tr>\n",
       "    <tr>\n",
       "      <th>7</th>\n",
       "      <td>Bellwright</td>\n",
       "      <td>23-04-2024</td>\n",
       "      <td>280955</td>\n",
       "      <td>29.99</td>\n",
       "      <td>7481940.0</td>\n",
       "      <td>41.418885</td>\n",
       "      <td>78</td>\n",
       "      <td>Indie</td>\n",
       "      <td>Donkey Crew,Snail Games USA</td>\n",
       "      <td>Donkey Crew</td>\n",
       "      <td>1812450</td>\n",
       "    </tr>\n",
       "    <tr>\n",
       "      <th>8</th>\n",
       "      <td>Night of the Dead</td>\n",
       "      <td>31-05-2024</td>\n",
       "      <td>394364</td>\n",
       "      <td>29.99</td>\n",
       "      <td>7091792.0</td>\n",
       "      <td>27.597072</td>\n",
       "      <td>79</td>\n",
       "      <td>Indie</td>\n",
       "      <td>Jackto Studios</td>\n",
       "      <td>Jackto Studios</td>\n",
       "      <td>1377380</td>\n",
       "    </tr>\n",
       "    <tr>\n",
       "      <th>9</th>\n",
       "      <td>Empires of the Undergrowth</td>\n",
       "      <td>07-06-2024</td>\n",
       "      <td>408292</td>\n",
       "      <td>29.99</td>\n",
       "      <td>6950952.0</td>\n",
       "      <td>38.602124</td>\n",
       "      <td>95</td>\n",
       "      <td>AA</td>\n",
       "      <td>Hooded Horse,Slug Disco</td>\n",
       "      <td>Slug Disco</td>\n",
       "      <td>463530</td>\n",
       "    </tr>\n",
       "  </tbody>\n",
       "</table>\n",
       "</div>"
      ],
      "text/plain": [
       "                              name releaseDate  copiesSold  price    revenue  \\\n",
       "0                         WWE 2K24  07-03-2024      165301  99.99  8055097.0   \n",
       "1            EARTH DEFENSE FORCE 6  25-07-2024      159806  59.99  7882151.0   \n",
       "2        Sins of a Solar Empire II  15-08-2024      214192  49.99  7815247.0   \n",
       "3                 Legend of Mortal  14-06-2024      440998  19.99  7756399.0   \n",
       "4  Shin Megami Tensei V: Vengeance  13-06-2024      141306  59.99  7629252.0   \n",
       "5                         Soulmask  30-05-2024      304685  29.99  7540563.0   \n",
       "6                    The Universim  22-01-2024      328945  29.99  7534369.0   \n",
       "7                       Bellwright  23-04-2024      280955  29.99  7481940.0   \n",
       "8                Night of the Dead  31-05-2024      394364  29.99  7091792.0   \n",
       "9       Empires of the Undergrowth  07-06-2024      408292  29.99  6950952.0   \n",
       "\n",
       "   avgPlaytime  reviewScore publisherClass                   publishers  \\\n",
       "0    42.365140           71            AAA                           2K   \n",
       "1    29.651061           57          Indie                  D3PUBLISHER   \n",
       "2    12.452593           88          Indie       Stardock Entertainment   \n",
       "3    24.797817           76          Indie  Paras Games,Obb Studio Inc.   \n",
       "4    34.258496           96             AA                         SEGA   \n",
       "5    95.697813           79          Indie                Qooland Games   \n",
       "6    16.868531           81          Indie                      Crytivo   \n",
       "7    41.418885           78          Indie  Donkey Crew,Snail Games USA   \n",
       "8    27.597072           79          Indie               Jackto Studios   \n",
       "9    38.602124           95             AA      Hooded Horse,Slug Disco   \n",
       "\n",
       "                                          developers  steamId  \n",
       "0                                    Visual Concepts  2315690  \n",
       "1                                            SANDLOT  2291060  \n",
       "2  Ironclad Games Corporation,Stardock Entertainment  1575940  \n",
       "3                                    Obb Studio Inc.  1859910  \n",
       "4                                              ATLUS  1875830  \n",
       "5                                    CampFire Studio  2646460  \n",
       "6                                            Crytivo   352720  \n",
       "7                                        Donkey Crew  1812450  \n",
       "8                                     Jackto Studios  1377380  \n",
       "9                                         Slug Disco   463530  "
      ]
     },
     "execution_count": 4,
     "metadata": {},
     "output_type": "execute_result"
    }
   ],
   "source": [
    "df.head(10)"
   ]
  },
  {
   "cell_type": "code",
   "execution_count": 5,
   "id": "04fe57e1-64be-4566-bc92-9b2e59791075",
   "metadata": {},
   "outputs": [
    {
     "data": {
      "text/html": [
       "<div>\n",
       "<style scoped>\n",
       "    .dataframe tbody tr th:only-of-type {\n",
       "        vertical-align: middle;\n",
       "    }\n",
       "\n",
       "    .dataframe tbody tr th {\n",
       "        vertical-align: top;\n",
       "    }\n",
       "\n",
       "    .dataframe thead th {\n",
       "        text-align: right;\n",
       "    }\n",
       "</style>\n",
       "<table border=\"1\" class=\"dataframe\">\n",
       "  <thead>\n",
       "    <tr style=\"text-align: right;\">\n",
       "      <th></th>\n",
       "      <th>copiesSold</th>\n",
       "      <th>price</th>\n",
       "      <th>revenue</th>\n",
       "      <th>avgPlaytime</th>\n",
       "      <th>reviewScore</th>\n",
       "      <th>steamId</th>\n",
       "    </tr>\n",
       "  </thead>\n",
       "  <tbody>\n",
       "    <tr>\n",
       "      <th>count</th>\n",
       "      <td>1.500000e+03</td>\n",
       "      <td>1500.000000</td>\n",
       "      <td>1.500000e+03</td>\n",
       "      <td>1500.000000</td>\n",
       "      <td>1500.000000</td>\n",
       "      <td>1.500000e+03</td>\n",
       "    </tr>\n",
       "    <tr>\n",
       "      <th>mean</th>\n",
       "      <td>1.414826e+05</td>\n",
       "      <td>17.519513</td>\n",
       "      <td>2.632382e+06</td>\n",
       "      <td>12.562704</td>\n",
       "      <td>76.201333</td>\n",
       "      <td>2.183788e+06</td>\n",
       "    </tr>\n",
       "    <tr>\n",
       "      <th>std</th>\n",
       "      <td>1.132757e+06</td>\n",
       "      <td>12.646612</td>\n",
       "      <td>2.781024e+07</td>\n",
       "      <td>21.542173</td>\n",
       "      <td>24.319438</td>\n",
       "      <td>6.067725e+05</td>\n",
       "    </tr>\n",
       "    <tr>\n",
       "      <th>min</th>\n",
       "      <td>5.930000e+02</td>\n",
       "      <td>0.000000</td>\n",
       "      <td>2.067400e+04</td>\n",
       "      <td>0.000000</td>\n",
       "      <td>0.000000</td>\n",
       "      <td>2.488000e+04</td>\n",
       "    </tr>\n",
       "    <tr>\n",
       "      <th>25%</th>\n",
       "      <td>4.918750e+03</td>\n",
       "      <td>9.990000</td>\n",
       "      <td>4.550425e+04</td>\n",
       "      <td>3.564848</td>\n",
       "      <td>72.000000</td>\n",
       "      <td>1.792795e+06</td>\n",
       "    </tr>\n",
       "    <tr>\n",
       "      <th>50%</th>\n",
       "      <td>1.192850e+04</td>\n",
       "      <td>14.990000</td>\n",
       "      <td>1.090530e+05</td>\n",
       "      <td>6.762776</td>\n",
       "      <td>83.000000</td>\n",
       "      <td>2.321985e+06</td>\n",
       "    </tr>\n",
       "    <tr>\n",
       "      <th>75%</th>\n",
       "      <td>3.786975e+04</td>\n",
       "      <td>19.990000</td>\n",
       "      <td>4.551568e+05</td>\n",
       "      <td>13.104473</td>\n",
       "      <td>92.000000</td>\n",
       "      <td>2.693228e+06</td>\n",
       "    </tr>\n",
       "    <tr>\n",
       "      <th>max</th>\n",
       "      <td>3.073915e+07</td>\n",
       "      <td>99.990000</td>\n",
       "      <td>8.377934e+08</td>\n",
       "      <td>296.332852</td>\n",
       "      <td>100.000000</td>\n",
       "      <td>3.107330e+06</td>\n",
       "    </tr>\n",
       "  </tbody>\n",
       "</table>\n",
       "</div>"
      ],
      "text/plain": [
       "         copiesSold        price       revenue  avgPlaytime  reviewScore  \\\n",
       "count  1.500000e+03  1500.000000  1.500000e+03  1500.000000  1500.000000   \n",
       "mean   1.414826e+05    17.519513  2.632382e+06    12.562704    76.201333   \n",
       "std    1.132757e+06    12.646612  2.781024e+07    21.542173    24.319438   \n",
       "min    5.930000e+02     0.000000  2.067400e+04     0.000000     0.000000   \n",
       "25%    4.918750e+03     9.990000  4.550425e+04     3.564848    72.000000   \n",
       "50%    1.192850e+04    14.990000  1.090530e+05     6.762776    83.000000   \n",
       "75%    3.786975e+04    19.990000  4.551568e+05    13.104473    92.000000   \n",
       "max    3.073915e+07    99.990000  8.377934e+08   296.332852   100.000000   \n",
       "\n",
       "            steamId  \n",
       "count  1.500000e+03  \n",
       "mean   2.183788e+06  \n",
       "std    6.067725e+05  \n",
       "min    2.488000e+04  \n",
       "25%    1.792795e+06  \n",
       "50%    2.321985e+06  \n",
       "75%    2.693228e+06  \n",
       "max    3.107330e+06  "
      ]
     },
     "execution_count": 5,
     "metadata": {},
     "output_type": "execute_result"
    }
   ],
   "source": [
    "df.describe()"
   ]
  },
  {
   "cell_type": "code",
   "execution_count": 6,
   "id": "2f47780f-36b9-4324-ba05-b1e108ac2472",
   "metadata": {},
   "outputs": [
    {
     "name": "stdout",
     "output_type": "stream",
     "text": [
      "<class 'pandas.core.frame.DataFrame'>\n",
      "RangeIndex: 1500 entries, 0 to 1499\n",
      "Data columns (total 11 columns):\n",
      " #   Column          Non-Null Count  Dtype  \n",
      "---  ------          --------------  -----  \n",
      " 0   name            1500 non-null   object \n",
      " 1   releaseDate     1500 non-null   object \n",
      " 2   copiesSold      1500 non-null   int64  \n",
      " 3   price           1500 non-null   float64\n",
      " 4   revenue         1500 non-null   float64\n",
      " 5   avgPlaytime     1500 non-null   float64\n",
      " 6   reviewScore     1500 non-null   int64  \n",
      " 7   publisherClass  1500 non-null   object \n",
      " 8   publishers      1499 non-null   object \n",
      " 9   developers      1498 non-null   object \n",
      " 10  steamId         1500 non-null   int64  \n",
      "dtypes: float64(3), int64(3), object(5)\n",
      "memory usage: 129.0+ KB\n"
     ]
    }
   ],
   "source": [
    "df.info()"
   ]
  },
  {
   "cell_type": "code",
   "execution_count": 7,
   "id": "469e77b0-a1d2-4f39-892a-45d016424a84",
   "metadata": {},
   "outputs": [
    {
     "data": {
      "text/html": [
       "<div>\n",
       "<style scoped>\n",
       "    .dataframe tbody tr th:only-of-type {\n",
       "        vertical-align: middle;\n",
       "    }\n",
       "\n",
       "    .dataframe tbody tr th {\n",
       "        vertical-align: top;\n",
       "    }\n",
       "\n",
       "    .dataframe thead th {\n",
       "        text-align: right;\n",
       "    }\n",
       "</style>\n",
       "<table border=\"1\" class=\"dataframe\">\n",
       "  <thead>\n",
       "    <tr style=\"text-align: right;\">\n",
       "      <th></th>\n",
       "      <th>name</th>\n",
       "      <th>releaseDate</th>\n",
       "      <th>copiesSold</th>\n",
       "      <th>price</th>\n",
       "      <th>revenue</th>\n",
       "      <th>avgPlaytime</th>\n",
       "      <th>reviewScore</th>\n",
       "      <th>publisherClass</th>\n",
       "      <th>publishers</th>\n",
       "      <th>developers</th>\n",
       "      <th>steamId</th>\n",
       "    </tr>\n",
       "  </thead>\n",
       "  <tbody>\n",
       "    <tr>\n",
       "      <th>1495</th>\n",
       "      <td>Infection Free Zone</td>\n",
       "      <td>11-04-2024</td>\n",
       "      <td>452146</td>\n",
       "      <td>24.99</td>\n",
       "      <td>8739530.0</td>\n",
       "      <td>14.494432</td>\n",
       "      <td>73</td>\n",
       "      <td>Indie</td>\n",
       "      <td>Games Operators</td>\n",
       "      <td>Jutsu Games</td>\n",
       "      <td>1465460</td>\n",
       "    </tr>\n",
       "    <tr>\n",
       "      <th>1496</th>\n",
       "      <td>Dark and Darker</td>\n",
       "      <td>07-06-2024</td>\n",
       "      <td>2640903</td>\n",
       "      <td>0.00</td>\n",
       "      <td>8706135.0</td>\n",
       "      <td>31.974027</td>\n",
       "      <td>74</td>\n",
       "      <td>Indie</td>\n",
       "      <td>IRONMACE</td>\n",
       "      <td>IRONMACE</td>\n",
       "      <td>2016590</td>\n",
       "    </tr>\n",
       "    <tr>\n",
       "      <th>1497</th>\n",
       "      <td>Songs of Conquest</td>\n",
       "      <td>20-05-2024</td>\n",
       "      <td>501474</td>\n",
       "      <td>34.99</td>\n",
       "      <td>8641459.0</td>\n",
       "      <td>11.891152</td>\n",
       "      <td>88</td>\n",
       "      <td>AA</td>\n",
       "      <td>Coffee Stain Publishing</td>\n",
       "      <td>Lavapotion</td>\n",
       "      <td>867210</td>\n",
       "    </tr>\n",
       "    <tr>\n",
       "      <th>1498</th>\n",
       "      <td>GUNDAM BREAKER 4</td>\n",
       "      <td>28-08-2024</td>\n",
       "      <td>156339</td>\n",
       "      <td>59.99</td>\n",
       "      <td>8440898.0</td>\n",
       "      <td>14.733899</td>\n",
       "      <td>81</td>\n",
       "      <td>AA</td>\n",
       "      <td>Bandai Namco Entertainment Inc.</td>\n",
       "      <td>CRAFTS ＆ MEISTER Co., Ltd</td>\n",
       "      <td>1672500</td>\n",
       "    </tr>\n",
       "    <tr>\n",
       "      <th>1499</th>\n",
       "      <td>Peglin</td>\n",
       "      <td>27-08-2024</td>\n",
       "      <td>544144</td>\n",
       "      <td>19.99</td>\n",
       "      <td>8125042.0</td>\n",
       "      <td>30.160995</td>\n",
       "      <td>82</td>\n",
       "      <td>Indie</td>\n",
       "      <td>Red Nexus Games Inc.,IndieArk</td>\n",
       "      <td>Red Nexus Games Inc.</td>\n",
       "      <td>1296610</td>\n",
       "    </tr>\n",
       "  </tbody>\n",
       "</table>\n",
       "</div>"
      ],
      "text/plain": [
       "                     name releaseDate  copiesSold  price    revenue  \\\n",
       "1495  Infection Free Zone  11-04-2024      452146  24.99  8739530.0   \n",
       "1496      Dark and Darker  07-06-2024     2640903   0.00  8706135.0   \n",
       "1497    Songs of Conquest  20-05-2024      501474  34.99  8641459.0   \n",
       "1498     GUNDAM BREAKER 4  28-08-2024      156339  59.99  8440898.0   \n",
       "1499               Peglin  27-08-2024      544144  19.99  8125042.0   \n",
       "\n",
       "      avgPlaytime  reviewScore publisherClass  \\\n",
       "1495    14.494432           73          Indie   \n",
       "1496    31.974027           74          Indie   \n",
       "1497    11.891152           88             AA   \n",
       "1498    14.733899           81             AA   \n",
       "1499    30.160995           82          Indie   \n",
       "\n",
       "                           publishers                 developers  steamId  \n",
       "1495                  Games Operators                Jutsu Games  1465460  \n",
       "1496                         IRONMACE                   IRONMACE  2016590  \n",
       "1497          Coffee Stain Publishing                 Lavapotion   867210  \n",
       "1498  Bandai Namco Entertainment Inc.  CRAFTS ＆ MEISTER Co., Ltd  1672500  \n",
       "1499    Red Nexus Games Inc.,IndieArk       Red Nexus Games Inc.  1296610  "
      ]
     },
     "execution_count": 7,
     "metadata": {},
     "output_type": "execute_result"
    }
   ],
   "source": [
    "df.tail()"
   ]
  },
  {
   "cell_type": "code",
   "execution_count": 8,
   "id": "583d574e-7041-4322-a89d-c4475bfbefbf",
   "metadata": {},
   "outputs": [
    {
     "data": {
      "text/plain": [
       "name              0\n",
       "releaseDate       0\n",
       "copiesSold        0\n",
       "price             0\n",
       "revenue           0\n",
       "avgPlaytime       0\n",
       "reviewScore       0\n",
       "publisherClass    0\n",
       "publishers        1\n",
       "developers        2\n",
       "steamId           0\n",
       "dtype: int64"
      ]
     },
     "execution_count": 8,
     "metadata": {},
     "output_type": "execute_result"
    }
   ],
   "source": [
    "df.isnull().sum()"
   ]
  },
  {
   "cell_type": "code",
   "execution_count": 9,
   "id": "423200a1-5bce-4e40-b8d5-4e3fe3dc7274",
   "metadata": {},
   "outputs": [
    {
     "data": {
      "text/plain": [
       "0       False\n",
       "1       False\n",
       "2       False\n",
       "3       False\n",
       "4       False\n",
       "        ...  \n",
       "1495    False\n",
       "1496    False\n",
       "1497    False\n",
       "1498    False\n",
       "1499    False\n",
       "Length: 1500, dtype: bool"
      ]
     },
     "execution_count": 9,
     "metadata": {},
     "output_type": "execute_result"
    }
   ],
   "source": [
    "df.duplicated()"
   ]
  },
  {
   "cell_type": "code",
   "execution_count": 10,
   "id": "f73d067b-c70b-4ec4-ba03-7df8c42145a6",
   "metadata": {},
   "outputs": [
    {
     "data": {
      "text/plain": [
       "Index(['name', 'releaseDate', 'copiesSold', 'price', 'revenue', 'avgPlaytime',\n",
       "       'reviewScore', 'publisherClass', 'publishers', 'developers', 'steamId'],\n",
       "      dtype='object')"
      ]
     },
     "execution_count": 10,
     "metadata": {},
     "output_type": "execute_result"
    }
   ],
   "source": [
    "df.columns"
   ]
  },
  {
   "cell_type": "code",
   "execution_count": 11,
   "id": "177fcd64-cd79-44f7-8d44-88dce5461c24",
   "metadata": {},
   "outputs": [
    {
     "data": {
      "text/plain": [
       "name              1500\n",
       "releaseDate        235\n",
       "copiesSold        1460\n",
       "price               58\n",
       "revenue           1497\n",
       "avgPlaytime       1500\n",
       "reviewScore         72\n",
       "publisherClass       4\n",
       "publishers        1131\n",
       "developers        1406\n",
       "steamId           1500\n",
       "dtype: int64"
      ]
     },
     "execution_count": 11,
     "metadata": {},
     "output_type": "execute_result"
    }
   ],
   "source": [
    "df.nunique()"
   ]
  },
  {
   "cell_type": "markdown",
   "id": "cd558648-580c-4340-832a-3112dde28da4",
   "metadata": {},
   "source": [
    "### Data Cleaning"
   ]
  },
  {
   "cell_type": "code",
   "execution_count": 12,
   "id": "979849b4-33d8-4d59-93c7-3ab73cd50179",
   "metadata": {},
   "outputs": [],
   "source": [
    "# Fill missing values in 'publishers'and 'developers' column\n",
    "df['publishers'] = df['publishers'].fillna('Unknown')\n",
    "df['developers'] = df['developers'].fillna('Unknown')\n"
   ]
  },
  {
   "cell_type": "code",
   "execution_count": 13,
   "id": "8a6ba6b0-8447-4c86-bee7-7863fcd699cf",
   "metadata": {},
   "outputs": [
    {
     "data": {
      "text/plain": [
       "name              0\n",
       "releaseDate       0\n",
       "copiesSold        0\n",
       "price             0\n",
       "revenue           0\n",
       "avgPlaytime       0\n",
       "reviewScore       0\n",
       "publisherClass    0\n",
       "publishers        0\n",
       "developers        0\n",
       "steamId           0\n",
       "dtype: int64"
      ]
     },
     "execution_count": 13,
     "metadata": {},
     "output_type": "execute_result"
    }
   ],
   "source": [
    "df.isnull().sum()"
   ]
  },
  {
   "cell_type": "markdown",
   "id": "9eb66c4a-c159-4455-a03e-400192670f26",
   "metadata": {},
   "source": [
    "### Data Transformation"
   ]
  },
  {
   "cell_type": "code",
   "execution_count": 14,
   "id": "2ee0fcde-53ac-485e-8333-d465a3456604",
   "metadata": {},
   "outputs": [
    {
     "data": {
      "text/html": [
       "<div>\n",
       "<style scoped>\n",
       "    .dataframe tbody tr th:only-of-type {\n",
       "        vertical-align: middle;\n",
       "    }\n",
       "\n",
       "    .dataframe tbody tr th {\n",
       "        vertical-align: top;\n",
       "    }\n",
       "\n",
       "    .dataframe thead th {\n",
       "        text-align: right;\n",
       "    }\n",
       "</style>\n",
       "<table border=\"1\" class=\"dataframe\">\n",
       "  <thead>\n",
       "    <tr style=\"text-align: right;\">\n",
       "      <th></th>\n",
       "      <th>name</th>\n",
       "      <th>releaseDate</th>\n",
       "      <th>copiesSold</th>\n",
       "      <th>price</th>\n",
       "      <th>revenue</th>\n",
       "      <th>avgPlaytime</th>\n",
       "      <th>reviewScore</th>\n",
       "      <th>publisherClass</th>\n",
       "      <th>publishers</th>\n",
       "      <th>developers</th>\n",
       "      <th>steamId</th>\n",
       "    </tr>\n",
       "  </thead>\n",
       "  <tbody>\n",
       "    <tr>\n",
       "      <th>0</th>\n",
       "      <td>WWE 2K24</td>\n",
       "      <td>07-03-2024</td>\n",
       "      <td>165301</td>\n",
       "      <td>99.99</td>\n",
       "      <td>8055097.0</td>\n",
       "      <td>42.365140</td>\n",
       "      <td>71</td>\n",
       "      <td>AAA</td>\n",
       "      <td>2K</td>\n",
       "      <td>Visual Concepts</td>\n",
       "      <td>2315690</td>\n",
       "    </tr>\n",
       "    <tr>\n",
       "      <th>1</th>\n",
       "      <td>EARTH DEFENSE FORCE 6</td>\n",
       "      <td>25-07-2024</td>\n",
       "      <td>159806</td>\n",
       "      <td>59.99</td>\n",
       "      <td>7882151.0</td>\n",
       "      <td>29.651061</td>\n",
       "      <td>57</td>\n",
       "      <td>Indie</td>\n",
       "      <td>D3PUBLISHER</td>\n",
       "      <td>SANDLOT</td>\n",
       "      <td>2291060</td>\n",
       "    </tr>\n",
       "    <tr>\n",
       "      <th>2</th>\n",
       "      <td>Sins of a Solar Empire II</td>\n",
       "      <td>15-08-2024</td>\n",
       "      <td>214192</td>\n",
       "      <td>49.99</td>\n",
       "      <td>7815247.0</td>\n",
       "      <td>12.452593</td>\n",
       "      <td>88</td>\n",
       "      <td>Indie</td>\n",
       "      <td>Stardock Entertainment</td>\n",
       "      <td>Ironclad Games Corporation,Stardock Entertainment</td>\n",
       "      <td>1575940</td>\n",
       "    </tr>\n",
       "    <tr>\n",
       "      <th>3</th>\n",
       "      <td>Legend of Mortal</td>\n",
       "      <td>14-06-2024</td>\n",
       "      <td>440998</td>\n",
       "      <td>19.99</td>\n",
       "      <td>7756399.0</td>\n",
       "      <td>24.797817</td>\n",
       "      <td>76</td>\n",
       "      <td>Indie</td>\n",
       "      <td>Paras Games,Obb Studio Inc.</td>\n",
       "      <td>Obb Studio Inc.</td>\n",
       "      <td>1859910</td>\n",
       "    </tr>\n",
       "    <tr>\n",
       "      <th>4</th>\n",
       "      <td>Shin Megami Tensei V: Vengeance</td>\n",
       "      <td>13-06-2024</td>\n",
       "      <td>141306</td>\n",
       "      <td>59.99</td>\n",
       "      <td>7629252.0</td>\n",
       "      <td>34.258496</td>\n",
       "      <td>96</td>\n",
       "      <td>AA</td>\n",
       "      <td>SEGA</td>\n",
       "      <td>ATLUS</td>\n",
       "      <td>1875830</td>\n",
       "    </tr>\n",
       "    <tr>\n",
       "      <th>...</th>\n",
       "      <td>...</td>\n",
       "      <td>...</td>\n",
       "      <td>...</td>\n",
       "      <td>...</td>\n",
       "      <td>...</td>\n",
       "      <td>...</td>\n",
       "      <td>...</td>\n",
       "      <td>...</td>\n",
       "      <td>...</td>\n",
       "      <td>...</td>\n",
       "      <td>...</td>\n",
       "    </tr>\n",
       "    <tr>\n",
       "      <th>1495</th>\n",
       "      <td>Infection Free Zone</td>\n",
       "      <td>11-04-2024</td>\n",
       "      <td>452146</td>\n",
       "      <td>24.99</td>\n",
       "      <td>8739530.0</td>\n",
       "      <td>14.494432</td>\n",
       "      <td>73</td>\n",
       "      <td>Indie</td>\n",
       "      <td>Games Operators</td>\n",
       "      <td>Jutsu Games</td>\n",
       "      <td>1465460</td>\n",
       "    </tr>\n",
       "    <tr>\n",
       "      <th>1496</th>\n",
       "      <td>Dark and Darker</td>\n",
       "      <td>07-06-2024</td>\n",
       "      <td>2640903</td>\n",
       "      <td>0.00</td>\n",
       "      <td>8706135.0</td>\n",
       "      <td>31.974027</td>\n",
       "      <td>74</td>\n",
       "      <td>Indie</td>\n",
       "      <td>IRONMACE</td>\n",
       "      <td>IRONMACE</td>\n",
       "      <td>2016590</td>\n",
       "    </tr>\n",
       "    <tr>\n",
       "      <th>1497</th>\n",
       "      <td>Songs of Conquest</td>\n",
       "      <td>20-05-2024</td>\n",
       "      <td>501474</td>\n",
       "      <td>34.99</td>\n",
       "      <td>8641459.0</td>\n",
       "      <td>11.891152</td>\n",
       "      <td>88</td>\n",
       "      <td>AA</td>\n",
       "      <td>Coffee Stain Publishing</td>\n",
       "      <td>Lavapotion</td>\n",
       "      <td>867210</td>\n",
       "    </tr>\n",
       "    <tr>\n",
       "      <th>1498</th>\n",
       "      <td>GUNDAM BREAKER 4</td>\n",
       "      <td>28-08-2024</td>\n",
       "      <td>156339</td>\n",
       "      <td>59.99</td>\n",
       "      <td>8440898.0</td>\n",
       "      <td>14.733899</td>\n",
       "      <td>81</td>\n",
       "      <td>AA</td>\n",
       "      <td>Bandai Namco Entertainment Inc.</td>\n",
       "      <td>CRAFTS ＆ MEISTER Co., Ltd</td>\n",
       "      <td>1672500</td>\n",
       "    </tr>\n",
       "    <tr>\n",
       "      <th>1499</th>\n",
       "      <td>Peglin</td>\n",
       "      <td>27-08-2024</td>\n",
       "      <td>544144</td>\n",
       "      <td>19.99</td>\n",
       "      <td>8125042.0</td>\n",
       "      <td>30.160995</td>\n",
       "      <td>82</td>\n",
       "      <td>Indie</td>\n",
       "      <td>Red Nexus Games Inc.,IndieArk</td>\n",
       "      <td>Red Nexus Games Inc.</td>\n",
       "      <td>1296610</td>\n",
       "    </tr>\n",
       "  </tbody>\n",
       "</table>\n",
       "<p>1500 rows × 11 columns</p>\n",
       "</div>"
      ],
      "text/plain": [
       "                                 name releaseDate  copiesSold  price  \\\n",
       "0                            WWE 2K24  07-03-2024      165301  99.99   \n",
       "1               EARTH DEFENSE FORCE 6  25-07-2024      159806  59.99   \n",
       "2           Sins of a Solar Empire II  15-08-2024      214192  49.99   \n",
       "3                    Legend of Mortal  14-06-2024      440998  19.99   \n",
       "4     Shin Megami Tensei V: Vengeance  13-06-2024      141306  59.99   \n",
       "...                               ...         ...         ...    ...   \n",
       "1495              Infection Free Zone  11-04-2024      452146  24.99   \n",
       "1496                  Dark and Darker  07-06-2024     2640903   0.00   \n",
       "1497                Songs of Conquest  20-05-2024      501474  34.99   \n",
       "1498                 GUNDAM BREAKER 4  28-08-2024      156339  59.99   \n",
       "1499                           Peglin  27-08-2024      544144  19.99   \n",
       "\n",
       "        revenue  avgPlaytime  reviewScore publisherClass  \\\n",
       "0     8055097.0    42.365140           71            AAA   \n",
       "1     7882151.0    29.651061           57          Indie   \n",
       "2     7815247.0    12.452593           88          Indie   \n",
       "3     7756399.0    24.797817           76          Indie   \n",
       "4     7629252.0    34.258496           96             AA   \n",
       "...         ...          ...          ...            ...   \n",
       "1495  8739530.0    14.494432           73          Indie   \n",
       "1496  8706135.0    31.974027           74          Indie   \n",
       "1497  8641459.0    11.891152           88             AA   \n",
       "1498  8440898.0    14.733899           81             AA   \n",
       "1499  8125042.0    30.160995           82          Indie   \n",
       "\n",
       "                           publishers  \\\n",
       "0                                  2K   \n",
       "1                         D3PUBLISHER   \n",
       "2              Stardock Entertainment   \n",
       "3         Paras Games,Obb Studio Inc.   \n",
       "4                                SEGA   \n",
       "...                               ...   \n",
       "1495                  Games Operators   \n",
       "1496                         IRONMACE   \n",
       "1497          Coffee Stain Publishing   \n",
       "1498  Bandai Namco Entertainment Inc.   \n",
       "1499    Red Nexus Games Inc.,IndieArk   \n",
       "\n",
       "                                             developers  steamId  \n",
       "0                                       Visual Concepts  2315690  \n",
       "1                                               SANDLOT  2291060  \n",
       "2     Ironclad Games Corporation,Stardock Entertainment  1575940  \n",
       "3                                       Obb Studio Inc.  1859910  \n",
       "4                                                 ATLUS  1875830  \n",
       "...                                                 ...      ...  \n",
       "1495                                        Jutsu Games  1465460  \n",
       "1496                                           IRONMACE  2016590  \n",
       "1497                                         Lavapotion   867210  \n",
       "1498                          CRAFTS ＆ MEISTER Co., Ltd  1672500  \n",
       "1499                               Red Nexus Games Inc.  1296610  \n",
       "\n",
       "[1500 rows x 11 columns]"
      ]
     },
     "execution_count": 14,
     "metadata": {},
     "output_type": "execute_result"
    }
   ],
   "source": [
    "df"
   ]
  },
  {
   "cell_type": "code",
   "execution_count": 15,
   "id": "35a8d293-bf75-4cf4-9368-317a18726f1e",
   "metadata": {},
   "outputs": [],
   "source": [
    "df[\"avgPlaytime\"]=df[\"avgPlaytime\"].astype('int')\n",
    "df[\"price\"]=df[\"price\"].astype('int')\n",
    "df['revenue']=df['revenue'].astype('int')"
   ]
  },
  {
   "cell_type": "code",
   "execution_count": 16,
   "id": "d31246f1-ebfa-4085-a3cb-ffbc0c9bc4bf",
   "metadata": {},
   "outputs": [
    {
     "data": {
      "text/html": [
       "<div>\n",
       "<style scoped>\n",
       "    .dataframe tbody tr th:only-of-type {\n",
       "        vertical-align: middle;\n",
       "    }\n",
       "\n",
       "    .dataframe tbody tr th {\n",
       "        vertical-align: top;\n",
       "    }\n",
       "\n",
       "    .dataframe thead th {\n",
       "        text-align: right;\n",
       "    }\n",
       "</style>\n",
       "<table border=\"1\" class=\"dataframe\">\n",
       "  <thead>\n",
       "    <tr style=\"text-align: right;\">\n",
       "      <th></th>\n",
       "      <th>name</th>\n",
       "      <th>releaseDate</th>\n",
       "      <th>copiesSold</th>\n",
       "      <th>price</th>\n",
       "      <th>revenue</th>\n",
       "      <th>avgPlaytime</th>\n",
       "      <th>reviewScore</th>\n",
       "      <th>publisherClass</th>\n",
       "      <th>publishers</th>\n",
       "      <th>developers</th>\n",
       "      <th>steamId</th>\n",
       "    </tr>\n",
       "  </thead>\n",
       "  <tbody>\n",
       "    <tr>\n",
       "      <th>0</th>\n",
       "      <td>WWE 2K24</td>\n",
       "      <td>07-03-2024</td>\n",
       "      <td>165301</td>\n",
       "      <td>99</td>\n",
       "      <td>8055097</td>\n",
       "      <td>42</td>\n",
       "      <td>71</td>\n",
       "      <td>AAA</td>\n",
       "      <td>2K</td>\n",
       "      <td>Visual Concepts</td>\n",
       "      <td>2315690</td>\n",
       "    </tr>\n",
       "    <tr>\n",
       "      <th>1</th>\n",
       "      <td>EARTH DEFENSE FORCE 6</td>\n",
       "      <td>25-07-2024</td>\n",
       "      <td>159806</td>\n",
       "      <td>59</td>\n",
       "      <td>7882151</td>\n",
       "      <td>29</td>\n",
       "      <td>57</td>\n",
       "      <td>Indie</td>\n",
       "      <td>D3PUBLISHER</td>\n",
       "      <td>SANDLOT</td>\n",
       "      <td>2291060</td>\n",
       "    </tr>\n",
       "    <tr>\n",
       "      <th>2</th>\n",
       "      <td>Sins of a Solar Empire II</td>\n",
       "      <td>15-08-2024</td>\n",
       "      <td>214192</td>\n",
       "      <td>49</td>\n",
       "      <td>7815247</td>\n",
       "      <td>12</td>\n",
       "      <td>88</td>\n",
       "      <td>Indie</td>\n",
       "      <td>Stardock Entertainment</td>\n",
       "      <td>Ironclad Games Corporation,Stardock Entertainment</td>\n",
       "      <td>1575940</td>\n",
       "    </tr>\n",
       "    <tr>\n",
       "      <th>3</th>\n",
       "      <td>Legend of Mortal</td>\n",
       "      <td>14-06-2024</td>\n",
       "      <td>440998</td>\n",
       "      <td>19</td>\n",
       "      <td>7756399</td>\n",
       "      <td>24</td>\n",
       "      <td>76</td>\n",
       "      <td>Indie</td>\n",
       "      <td>Paras Games,Obb Studio Inc.</td>\n",
       "      <td>Obb Studio Inc.</td>\n",
       "      <td>1859910</td>\n",
       "    </tr>\n",
       "    <tr>\n",
       "      <th>4</th>\n",
       "      <td>Shin Megami Tensei V: Vengeance</td>\n",
       "      <td>13-06-2024</td>\n",
       "      <td>141306</td>\n",
       "      <td>59</td>\n",
       "      <td>7629252</td>\n",
       "      <td>34</td>\n",
       "      <td>96</td>\n",
       "      <td>AA</td>\n",
       "      <td>SEGA</td>\n",
       "      <td>ATLUS</td>\n",
       "      <td>1875830</td>\n",
       "    </tr>\n",
       "    <tr>\n",
       "      <th>...</th>\n",
       "      <td>...</td>\n",
       "      <td>...</td>\n",
       "      <td>...</td>\n",
       "      <td>...</td>\n",
       "      <td>...</td>\n",
       "      <td>...</td>\n",
       "      <td>...</td>\n",
       "      <td>...</td>\n",
       "      <td>...</td>\n",
       "      <td>...</td>\n",
       "      <td>...</td>\n",
       "    </tr>\n",
       "    <tr>\n",
       "      <th>1495</th>\n",
       "      <td>Infection Free Zone</td>\n",
       "      <td>11-04-2024</td>\n",
       "      <td>452146</td>\n",
       "      <td>24</td>\n",
       "      <td>8739530</td>\n",
       "      <td>14</td>\n",
       "      <td>73</td>\n",
       "      <td>Indie</td>\n",
       "      <td>Games Operators</td>\n",
       "      <td>Jutsu Games</td>\n",
       "      <td>1465460</td>\n",
       "    </tr>\n",
       "    <tr>\n",
       "      <th>1496</th>\n",
       "      <td>Dark and Darker</td>\n",
       "      <td>07-06-2024</td>\n",
       "      <td>2640903</td>\n",
       "      <td>0</td>\n",
       "      <td>8706135</td>\n",
       "      <td>31</td>\n",
       "      <td>74</td>\n",
       "      <td>Indie</td>\n",
       "      <td>IRONMACE</td>\n",
       "      <td>IRONMACE</td>\n",
       "      <td>2016590</td>\n",
       "    </tr>\n",
       "    <tr>\n",
       "      <th>1497</th>\n",
       "      <td>Songs of Conquest</td>\n",
       "      <td>20-05-2024</td>\n",
       "      <td>501474</td>\n",
       "      <td>34</td>\n",
       "      <td>8641459</td>\n",
       "      <td>11</td>\n",
       "      <td>88</td>\n",
       "      <td>AA</td>\n",
       "      <td>Coffee Stain Publishing</td>\n",
       "      <td>Lavapotion</td>\n",
       "      <td>867210</td>\n",
       "    </tr>\n",
       "    <tr>\n",
       "      <th>1498</th>\n",
       "      <td>GUNDAM BREAKER 4</td>\n",
       "      <td>28-08-2024</td>\n",
       "      <td>156339</td>\n",
       "      <td>59</td>\n",
       "      <td>8440898</td>\n",
       "      <td>14</td>\n",
       "      <td>81</td>\n",
       "      <td>AA</td>\n",
       "      <td>Bandai Namco Entertainment Inc.</td>\n",
       "      <td>CRAFTS ＆ MEISTER Co., Ltd</td>\n",
       "      <td>1672500</td>\n",
       "    </tr>\n",
       "    <tr>\n",
       "      <th>1499</th>\n",
       "      <td>Peglin</td>\n",
       "      <td>27-08-2024</td>\n",
       "      <td>544144</td>\n",
       "      <td>19</td>\n",
       "      <td>8125042</td>\n",
       "      <td>30</td>\n",
       "      <td>82</td>\n",
       "      <td>Indie</td>\n",
       "      <td>Red Nexus Games Inc.,IndieArk</td>\n",
       "      <td>Red Nexus Games Inc.</td>\n",
       "      <td>1296610</td>\n",
       "    </tr>\n",
       "  </tbody>\n",
       "</table>\n",
       "<p>1500 rows × 11 columns</p>\n",
       "</div>"
      ],
      "text/plain": [
       "                                 name releaseDate  copiesSold  price  revenue  \\\n",
       "0                            WWE 2K24  07-03-2024      165301     99  8055097   \n",
       "1               EARTH DEFENSE FORCE 6  25-07-2024      159806     59  7882151   \n",
       "2           Sins of a Solar Empire II  15-08-2024      214192     49  7815247   \n",
       "3                    Legend of Mortal  14-06-2024      440998     19  7756399   \n",
       "4     Shin Megami Tensei V: Vengeance  13-06-2024      141306     59  7629252   \n",
       "...                               ...         ...         ...    ...      ...   \n",
       "1495              Infection Free Zone  11-04-2024      452146     24  8739530   \n",
       "1496                  Dark and Darker  07-06-2024     2640903      0  8706135   \n",
       "1497                Songs of Conquest  20-05-2024      501474     34  8641459   \n",
       "1498                 GUNDAM BREAKER 4  28-08-2024      156339     59  8440898   \n",
       "1499                           Peglin  27-08-2024      544144     19  8125042   \n",
       "\n",
       "      avgPlaytime  reviewScore publisherClass  \\\n",
       "0              42           71            AAA   \n",
       "1              29           57          Indie   \n",
       "2              12           88          Indie   \n",
       "3              24           76          Indie   \n",
       "4              34           96             AA   \n",
       "...           ...          ...            ...   \n",
       "1495           14           73          Indie   \n",
       "1496           31           74          Indie   \n",
       "1497           11           88             AA   \n",
       "1498           14           81             AA   \n",
       "1499           30           82          Indie   \n",
       "\n",
       "                           publishers  \\\n",
       "0                                  2K   \n",
       "1                         D3PUBLISHER   \n",
       "2              Stardock Entertainment   \n",
       "3         Paras Games,Obb Studio Inc.   \n",
       "4                                SEGA   \n",
       "...                               ...   \n",
       "1495                  Games Operators   \n",
       "1496                         IRONMACE   \n",
       "1497          Coffee Stain Publishing   \n",
       "1498  Bandai Namco Entertainment Inc.   \n",
       "1499    Red Nexus Games Inc.,IndieArk   \n",
       "\n",
       "                                             developers  steamId  \n",
       "0                                       Visual Concepts  2315690  \n",
       "1                                               SANDLOT  2291060  \n",
       "2     Ironclad Games Corporation,Stardock Entertainment  1575940  \n",
       "3                                       Obb Studio Inc.  1859910  \n",
       "4                                                 ATLUS  1875830  \n",
       "...                                                 ...      ...  \n",
       "1495                                        Jutsu Games  1465460  \n",
       "1496                                           IRONMACE  2016590  \n",
       "1497                                         Lavapotion   867210  \n",
       "1498                          CRAFTS ＆ MEISTER Co., Ltd  1672500  \n",
       "1499                               Red Nexus Games Inc.  1296610  \n",
       "\n",
       "[1500 rows x 11 columns]"
      ]
     },
     "execution_count": 16,
     "metadata": {},
     "output_type": "execute_result"
    }
   ],
   "source": [
    "df"
   ]
  },
  {
   "cell_type": "markdown",
   "id": "7702c6b8-46b4-4e73-b1ce-0aa64ce1e8c0",
   "metadata": {},
   "source": [
    "### Data Visualization"
   ]
  },
  {
   "cell_type": "code",
   "execution_count": 17,
   "id": "d1eaf2bc-c054-432c-92f8-a2ec574bfeef",
   "metadata": {},
   "outputs": [
    {
     "data": {
      "text/plain": [
       "<Axes: xlabel='publisherClass', ylabel='reviewScore'>"
      ]
     },
     "execution_count": 17,
     "metadata": {},
     "output_type": "execute_result"
    },
    {
     "data": {
      "image/png": "[encoded data removed]",
      "text/plain": [
       "<Figure size 640x480 with 1 Axes>"
      ]
     },
     "metadata": {},
     "output_type": "display_data"
    }
   ],
   "source": [
    "sns.barplot(x='publisherClass',y='reviewScore',data=df)"
   ]
  },
  {
   "cell_type": "code",
   "execution_count": 18,
   "id": "4c4e8517-5932-43c9-b260-6a8b849bdffe",
   "metadata": {},
   "outputs": [
    {
     "data": {
      "text/plain": [
       "<Axes: xlabel='price', ylabel='Count'>"
      ]
     },
     "execution_count": 18,
     "metadata": {},
     "output_type": "execute_result"
    },
    {
     "data": {
      "image/png": "[encoded data removed]",
      "text/plain": [
       "<Figure size 640x480 with 1 Axes>"
      ]
     },
     "metadata": {},
     "output_type": "display_data"
    }
   ],
   "source": [
    "sns.histplot(df['price'],bins=10,kde=True)"
   ]
  },
  {
   "cell_type": "markdown",
   "id": "2cf80c45-376b-43f6-8d5d-b93584300df6",
   "metadata": {},
   "source": [
    "### Creating pair plot"
   ]
  },
  {
   "cell_type": "code",
   "execution_count": 19,
   "id": "72bccf15-bed3-41a1-b1c3-4ab3707cb971",
   "metadata": {},
   "outputs": [
    {
     "data": {
      "text/plain": [
       "<seaborn.axisgrid.PairGrid at 0x26028589a00>"
      ]
     },
     "execution_count": 19,
     "metadata": {},
     "output_type": "execute_result"
    },
    {
     "data": {
      "image/png": "[encoded data removed]",
      "text/plain": [
       "<Figure size 750x750 with 12 Axes>"
      ]
     },
     "metadata": {},
     "output_type": "display_data"
    }
   ],
   "source": [
    "sns.pairplot(df.iloc[:,[3,5,6,7]])"
   ]
  },
  {
   "cell_type": "markdown",
   "id": "aaef1a61-27f6-46e0-a639-8e6bb887601c",
   "metadata": {},
   "source": [
    "## Using First Algorithm"
   ]
  },
  {
   "cell_type": "markdown",
   "id": "22b3e83f-54b2-4268-8038-f74cea8ba594",
   "metadata": {},
   "source": [
    "### Kmeans Clustering"
   ]
  },
  {
   "cell_type": "code",
   "execution_count": 20,
   "id": "b70dec06-bb4e-4918-83ba-1e746f5bc2ce",
   "metadata": {},
   "outputs": [],
   "source": [
    "import os"
   ]
  },
  {
   "cell_type": "code",
   "execution_count": 21,
   "id": "e7cd2c82-d4d0-4b72-b54b-433772ed1a0a",
   "metadata": {},
   "outputs": [],
   "source": [
    "os.environ[\"OMP_NUM_THREADS\"]='6'"
   ]
  },
  {
   "cell_type": "code",
   "execution_count": 22,
   "id": "e50dcc46-3f31-496d-b34d-6826d3059947",
   "metadata": {},
   "outputs": [],
   "source": [
    "from sklearn.preprocessing import StandardScaler"
   ]
  },
  {
   "cell_type": "code",
   "execution_count": 23,
   "id": "c6cad9e2-ce61-4a24-9801-a92501077975",
   "metadata": {},
   "outputs": [],
   "source": [
    "#Selecting a feature\n",
    "clustering_data = df[['avgPlaytime', 'revenue']]\n",
    "#Scaling a Feature\n",
    "scaler=StandardScaler()\n",
    "scaled_data=scaler.fit_transform(clustering_data)"
   ]
  },
  {
   "cell_type": "code",
   "execution_count": 24,
   "id": "23c0a2d1-86a2-46d8-8a22-a15312791ed6",
   "metadata": {},
   "outputs": [],
   "source": [
    "#Creating elbow chart to find optimal value\n",
    "from sklearn.cluster import KMeans"
   ]
  },
  {
   "cell_type": "code",
   "execution_count": 25,
   "id": "9fbf51a9-a99f-4163-8d31-28214c61fdd5",
   "metadata": {},
   "outputs": [
    {
     "data": {
      "image/png": "[encoded data removed]",
      "text/plain": [
       "<Figure size 600x400 with 1 Axes>"
      ]
     },
     "metadata": {},
     "output_type": "display_data"
    }
   ],
   "source": [
    "wcss=[]\n",
    "for k in range(1,11):\n",
    "    kmeans=KMeans(n_clusters= k,random_state=42)\n",
    "    kmeans.fit(scaled_data)\n",
    "    wcss.append(kmeans.inertia_)\n",
    "    \n",
    "plt.figure(figsize=(6, 4))\n",
    "plt.plot(range(1,11),wcss)\n",
    "plt.xlabel('Number of Clusters (k)')\n",
    "plt.ylabel('Inertia')\n",
    "plt.title('Elbow Method For Optimal k')\n",
    "plt.grid(True)\n",
    "plt.show()"
   ]
  },
  {
   "cell_type": "markdown",
   "id": "eca8a49a-01b8-4a0b-b67e-ea9c350fc8b1",
   "metadata": {},
   "source": [
    "### Applying Clustering"
   ]
  },
  {
   "cell_type": "code",
   "execution_count": 26,
   "id": "73de8a77-15e1-463e-9a24-26bcb05288bb",
   "metadata": {},
   "outputs": [],
   "source": [
    "optimal_k = 3\n",
    "kmeans = KMeans(n_clusters=optimal_k, random_state=42)\n",
    "y_means = kmeans.fit_predict(scaled_data)\n",
    "inertia=kmeans.inertia_"
   ]
  },
  {
   "cell_type": "markdown",
   "id": "27f4bf4c-f957-40be-aa64-6d9e4e7078fb",
   "metadata": {},
   "source": [
    "### Visualizing Clusters"
   ]
  },
  {
   "cell_type": "code",
   "execution_count": 27,
   "id": "bdc45203-5a76-407a-91a7-4eb1a9df4b04",
   "metadata": {},
   "outputs": [
    {
     "data": {
      "image/png": "[encoded data removed]",
      "text/plain": [
       "<Figure size 600x400 with 1 Axes>"
      ]
     },
     "metadata": {},
     "output_type": "display_data"
    }
   ],
   "source": [
    "plt.figure(figsize=(6, 4))\n",
    "plt.scatter(scaled_data[y_means==0, 0], scaled_data[y_means==0, 1], s=100, c='cyan', label='cluster1')\n",
    "plt.scatter(scaled_data[y_means==1, 0], scaled_data[y_means==1, 1], s=100, c='purple', label='cluster2')\n",
    "plt.scatter(scaled_data[y_means==2, 0], scaled_data[y_means==2, 1], s=100, c='yellow', label='cluster3')\n",
    "plt.scatter(kmeans.cluster_centers_[:, 0], kmeans.cluster_centers_[:, 1], s=200, c='black', label='Centroids', marker='X')\n",
    "plt.xlabel('Playtime')\n",
    "plt.ylabel('revenue')\n",
    "plt.legend()\n",
    "plt.show()\n"
   ]
  },
  {
   "cell_type": "markdown",
   "id": "12a4f37c-8e01-4bef-98c0-cfac5724bedd",
   "metadata": {},
   "source": [
    "## Using Second Algorithm"
   ]
  },
  {
   "cell_type": "markdown",
   "id": "b9d6af11-c557-4618-97a8-2710832a3ac9",
   "metadata": {},
   "source": [
    "### Importing required packages again"
   ]
  },
  {
   "cell_type": "code",
   "execution_count": 28,
   "id": "c52106a7-3cad-40a1-8d5e-f12a57f1c6e9",
   "metadata": {},
   "outputs": [],
   "source": [
    "import pandas as pd\n",
    "import matplotlib.pyplot as plt\n",
    "import numpy as np\n",
    "import seaborn as sns\n",
    "from sklearn.preprocessing import StandardScaler"
   ]
  },
  {
   "cell_type": "markdown",
   "id": "ddab2e3e-be9d-46aa-b157-c407ad9b5f2c",
   "metadata": {},
   "source": [
    "### Applying Hierachical Clustering"
   ]
  },
  {
   "cell_type": "code",
   "execution_count": 29,
   "id": "e1b62720-2700-4009-8fa2-f487874798f9",
   "metadata": {},
   "outputs": [
    {
     "data": {
      "image/png": "[encoded data removed]",
      "text/plain": [
       "<Figure size 1000x600 with 1 Axes>"
      ]
     },
     "metadata": {},
     "output_type": "display_data"
    }
   ],
   "source": [
    "\n",
    "#Using the Dendrogram to find optimal number of clusters\n",
    "import scipy.cluster.hierarchy as sch\n",
    "import matplotlib.pyplot as plt\n",
    "\n",
    "#Visualizing the dendrogram\n",
    "plt.figure(figsize=(10, 6))\n",
    "dendrogram = sch.dendrogram(sch.linkage(scaled_data, method='ward'))\n",
    "plt.title('Dendrogram')\n",
    "plt.xlabel('Financial sucess and player Engagement')\n",
    "plt.ylabel('Distance')\n",
    "plt.show()\n"
   ]
  },
  {
   "cell_type": "markdown",
   "id": "73ff9c6c-4410-4ba8-8f6f-e86fa048d9b8",
   "metadata": {},
   "source": [
    "### Applying Agglomerative Clustering"
   ]
  },
  {
   "cell_type": "code",
   "execution_count": 30,
   "id": "49598f74-ffc6-49e0-9117-edfbeffefb56",
   "metadata": {},
   "outputs": [],
   "source": [
    "from sklearn.cluster import AgglomerativeClustering\n",
    "agg_cluster = AgglomerativeClustering(n_clusters=3, metric='euclidean', linkage='ward')\n",
    "cluster_labels = agg_cluster.fit_predict(scaled_data)"
   ]
  },
  {
   "cell_type": "code",
   "execution_count": 31,
   "id": "499f650f-823c-45cb-84d5-b7f62a1fb073",
   "metadata": {},
   "outputs": [
    {
     "data": {
      "image/png": "[encoded data removed]",
      "text/plain": [
       "<Figure size 600x400 with 1 Axes>"
      ]
     },
     "metadata": {},
     "output_type": "display_data"
    }
   ],
   "source": [
    "#Visualizing line clusters\n",
    "plt.figure(figsize=(6, 4))\n",
    "plt.scatter(scaled_data[y_means==0, 0], scaled_data[y_means==0, 1], s=100, c='red', label='cluster1')\n",
    "plt.scatter(scaled_data[y_means==1, 0], scaled_data[y_means==1, 1], s=100, c='blue', label='cluster2')\n",
    "plt.scatter(scaled_data[y_means==2, 0], scaled_data[y_means==2, 1], s=100, c='green', label='cluster3')\n",
    "\n",
    "\n",
    "plt.xlabel('Playtime')\n",
    "plt.ylabel('revenue')\n",
    "plt.legend()\n",
    "plt.show()"
   ]
  },
  {
   "cell_type": "markdown",
   "id": "2cd9917f-9ffd-4e3a-a745-6c876d1c1ef7",
   "metadata": {},
   "source": [
    "## Comparing two performance of algorithm "
   ]
  },
  {
   "cell_type": "code",
   "execution_count": 32,
   "id": "f8227ae6-3026-4619-a09e-205b7b7b2e1c",
   "metadata": {},
   "outputs": [
    {
     "name": "stdout",
     "output_type": "stream",
     "text": [
      "Performance Comparison:\n",
      "                 Metric    KMeans  Agglomerative\n",
      "0      Silhouette Score  0.893101       0.937599\n",
      "1  Davies-Bouldin Score  0.518587       0.371303\n"
     ]
    }
   ],
   "source": [
    "# Importing required packages\n",
    "from sklearn.metrics import silhouette_score, davies_bouldin_score\n",
    "\n",
    "\n",
    "# Silhouette Score\n",
    "kmeans_silhouette = silhouette_score(scaled_data, y_means)\n",
    "agglo_silhouette = silhouette_score(scaled_data, cluster_labels)\n",
    "\n",
    "# Davies-Bouldin Score\n",
    "kmeans_db_score = davies_bouldin_score(scaled_data, y_means)\n",
    "agglo_db_score = davies_bouldin_score(scaled_data, cluster_labels)\n",
    "\n",
    "# Displaying results in a DataFrame\n",
    "results = pd.DataFrame({\n",
    "    'Metric': ['Silhouette Score', 'Davies-Bouldin Score'],\n",
    "    'KMeans': [ kmeans_silhouette, kmeans_db_score],\n",
    "    'Agglomerative': [agglo_silhouette, agglo_db_score]\n",
    "})\n",
    "\n",
    "print(\"Performance Comparison:\")\n",
    "print(results)"
   ]
  },
  {
   "cell_type": "markdown",
   "id": "3a0c5012-a007-4b9d-981a-acc99f49e79f",
   "metadata": {},
   "source": [
    "# RESULT OF COMPARISION"
   ]
  },
  {
   "cell_type": "markdown",
   "id": "04e5b704-9d15-4fe4-8c93-81b787b2423e",
   "metadata": {},
   "source": [
    "## Silhouette Score"
   ]
  },
  {
   "cell_type": "code",
   "execution_count": 33,
   "id": "ca2559c3-8612-48fb-91ac-b9fc1f1363ac",
   "metadata": {},
   "outputs": [],
   "source": [
    "# A higher silhouette score (closer to 1) indicates that clusters are well-separated and dense. \n",
    "# The Agglomerative Clustering silhouette score is higher than Kmeans , it means Agglomerative Clustering has done a better job at clustering the data."
   ]
  },
  {
   "cell_type": "markdown",
   "id": "6ebccbf1-44ec-49f9-8bb9-a9f739d380b7",
   "metadata": {},
   "source": [
    "## Davies-Bouldin score"
   ]
  },
  {
   "cell_type": "code",
   "execution_count": 34,
   "id": "38881cc5-18f4-415e-82ef-fc779c3aa620",
   "metadata": {},
   "outputs": [],
   "source": [
    "# A lower Davies-Bouldin score indicates better clustering with well-separated and compact clusters. \n",
    "# Comparing this value for both algorithms can help us assess which algorithm created more distinct clusters."
   ]
  },
  {
   "cell_type": "markdown",
   "id": "6e9f85ae-1088-41bf-a69c-1d1ca3f8c61c",
   "metadata": {},
   "source": [
    "# CONCLUSION"
   ]
  },
  {
   "cell_type": "code",
   "execution_count": 42,
   "id": "064f9004-be0d-4280-98de-200062039df6",
   "metadata": {},
   "outputs": [],
   "source": [
    "# After considering  Silhouette Score, Davies-Bouldin score AGGLOMERATIVE CLUSTERING has done a better job comparable to KMeans"
   ]
  }
 ],
 "metadata": {
  "kernelspec": {
   "display_name": "Python 3 (ipykernel)",
   "language": "python",
   "name": "python3"
  },
  "language_info": {
   "codemirror_mode": {
    "name": "ipython",
    "version": 3
   },
   "file_extension": ".py",
   "mimetype": "text/x-python",
   "name": "python",
   "nbconvert_exporter": "python",
   "pygments_lexer": "ipython3",
   "version": "3.12.4"
  }
 },
 "nbformat": 4,
 "nbformat_minor": 5
}
